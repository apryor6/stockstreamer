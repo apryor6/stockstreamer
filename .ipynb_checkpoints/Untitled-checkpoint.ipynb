{
 "cells": [
  {
   "cell_type": "code",
   "execution_count": 2,
   "metadata": {
    "collapsed": true
   },
   "outputs": [],
   "source": [
    "import urllib"
   ]
  },
  {
   "cell_type": "code",
   "execution_count": 19,
   "metadata": {},
   "outputs": [
    {
     "name": "stdout",
     "output_type": "stream",
     "text": [
      "fetching\n",
      "https://api.iextrading.com/1.0/stock/GOOG/price\n",
      "GOOG <http.client.HTTPResponse object at 0x10f6b24a8>\n",
      "fetching\n",
      "https://api.iextrading.com/1.0/stock/AAPL/price\n",
      "AAPL <http.client.HTTPResponse object at 0x10f6b2160>\n"
     ]
    }
   ],
   "source": [
    "# %load data_fetcher.py\n",
    "from urllib.request import urlopen\n",
    "\n",
    "class StockFetcher():\n",
    "\t\"\"\"\n",
    "\tBase class for fetching stocks\n",
    "\t\"\"\"\n",
    "\tdef __init__(self, stocks):\n",
    "\t    self.stocks = stocks\n",
    "\tdef fetchAll(self):\n",
    "\t\tprices = {}\n",
    "\t\tfor stock in self.stocks:\n",
    "\t\t\tprices[stock] = self.fetch(stock)\n",
    "\t\treturn prices\n",
    "\tdef fetch(self, stock):\n",
    "\t\treturn NotImplemented\n",
    "\n",
    "class IEXStockFetcher(StockFetcher):\n",
    "\turl_prefix = \"https://api.iextrading.com/1.0/stock/\"\n",
    "\turl_suffix = \"/price\"\n",
    "\tdef __init__(self, stocks):\n",
    "\t\tsuper().__init__(stocks)\n",
    "\tdef fetch(self, stock):\n",
    "\t\tprint(\"fetching\")\n",
    "\t\tprint(\"{}{}{}\".format(IEXStockFetcher.url_prefix, stock, IEXStockFetcher.url_suffix))\n",
    "\t\tval = urlopen(\"{}{}{}\".format(IEXStockFetcher.url_prefix, stock, IEXStockFetcher.url_suffix))\n",
    "\t\tprint(stock, val)\n",
    "\n",
    "# def fetch_many_stocks(stocks=None):\n",
    "\t# for stock in stocks:\n",
    "\t\t# price = fetch_stock(stock)\n",
    "\n",
    "def main():\n",
    "\tstocks_to_fetch = ['GOOG','AAPL']\n",
    "\tstock_fetcher = IEXStockFetcher(stocks_to_fetch)\n",
    "\tstock_fetcher.fetchAll()\n",
    "\n",
    "if __name__ == '__main__':\n",
    "\tmain()\n"
   ]
  },
  {
   "cell_type": "code",
   "execution_count": 20,
   "metadata": {},
   "outputs": [
    {
     "ename": "NameError",
     "evalue": "name 'stock' is not defined",
     "output_type": "error",
     "traceback": [
      "\u001b[0;31m---------------------------------------------------------------------------\u001b[0m",
      "\u001b[0;31mNameError\u001b[0m                                 Traceback (most recent call last)",
      "\u001b[0;32m<ipython-input-20-740230917f7f>\u001b[0m in \u001b[0;36m<module>\u001b[0;34m()\u001b[0m\n\u001b[1;32m      1\u001b[0m \u001b[0;32mfrom\u001b[0m \u001b[0murllib\u001b[0m\u001b[0;34m.\u001b[0m\u001b[0mrequest\u001b[0m \u001b[0;32mimport\u001b[0m \u001b[0murlopen\u001b[0m\u001b[0;34m\u001b[0m\u001b[0m\n\u001b[1;32m      2\u001b[0m \u001b[0mval\u001b[0m \u001b[0;34m=\u001b[0m \u001b[0murlopen\u001b[0m\u001b[0;34m(\u001b[0m\u001b[0;34m\"{}{}{}\"\u001b[0m\u001b[0;34m.\u001b[0m\u001b[0mformat\u001b[0m\u001b[0;34m(\u001b[0m\u001b[0mIEXStockFetcher\u001b[0m\u001b[0;34m.\u001b[0m\u001b[0murl_prefix\u001b[0m\u001b[0;34m,\u001b[0m \u001b[0;34m\"GOOG\"\u001b[0m\u001b[0;34m,\u001b[0m \u001b[0mIEXStockFetcher\u001b[0m\u001b[0;34m.\u001b[0m\u001b[0murl_suffix\u001b[0m\u001b[0;34m)\u001b[0m\u001b[0;34m)\u001b[0m\u001b[0;34m\u001b[0m\u001b[0m\n\u001b[0;32m----> 3\u001b[0;31m \u001b[0mprint\u001b[0m\u001b[0;34m(\u001b[0m\u001b[0mstock\u001b[0m\u001b[0;34m,\u001b[0m \u001b[0mval\u001b[0m\u001b[0;34m)\u001b[0m\u001b[0;34m\u001b[0m\u001b[0m\n\u001b[0m",
      "\u001b[0;31mNameError\u001b[0m: name 'stock' is not defined"
     ]
    }
   ],
   "source": [
    "from urllib.request import urlopen\n",
    "stock=\"GOOG\"\n",
    "val = urlopen(\"{}{}{}\".format(IEXStockFetcher.url_prefix, stock, IEXStockFetcher.url_suffix))\n",
    "print(stock, val)"
   ]
  },
  {
   "cell_type": "code",
   "execution_count": 18,
   "metadata": {},
   "outputs": [
    {
     "data": {
      "text/plain": [
       "'https://api.iextrading.com/1.0/stock/GOOG/price'"
      ]
     },
     "execution_count": 18,
     "metadata": {},
     "output_type": "execute_result"
    }
   ],
   "source": [
    "\"{}{}{}\".format(IEXStockFetcher.url_prefix, \"GOOG\", IEXStockFetcher.url_suffix)"
   ]
  },
  {
   "cell_type": "code",
   "execution_count": null,
   "metadata": {
    "collapsed": true
   },
   "outputs": [],
   "source": []
  }
 ],
 "metadata": {
  "kernelspec": {
   "display_name": "Python 3",
   "language": "python",
   "name": "python3"
  },
  "language_info": {
   "codemirror_mode": {
    "name": "ipython",
    "version": 3
   },
   "file_extension": ".py",
   "mimetype": "text/x-python",
   "name": "python",
   "nbconvert_exporter": "python",
   "pygments_lexer": "ipython3",
   "version": "3.6.1"
  }
 },
 "nbformat": 4,
 "nbformat_minor": 2
}
