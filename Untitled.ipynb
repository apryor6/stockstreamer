{
 "cells": [
  {
   "cell_type": "code",
   "execution_count": 43,
   "metadata": {
    "collapsed": true
   },
   "outputs": [],
   "source": [
    "from urllib.request import urlopen\n",
    "import abc\n",
    "import time\n",
    "import datetime\n",
    "import json\n",
    "import psycopg2\n",
    "\n",
    "class StockFetcher(metaclass=abc.ABCMeta):\n",
    "\t\"\"\"\n",
    "\tBase class for fetching stock information\n",
    "\t\"\"\"\n",
    "\tdef __init__(self, stocks):\n",
    "\t    self.stocks = stocks\n",
    "\n",
    "\tdef fetchAllPrices(self):\n",
    "\t\tstock_data = {}\n",
    "\t\tprices = {}\n",
    "\t\tstock_data['timestamp'] = datetime.datetime.now()\n",
    "\t\tfor stock in self.stocks:\n",
    "\t\t\tprices[stock] = self.fetchPrice(stock)\n",
    "\t\tstock_data['prices'] = prices\n",
    "\t\treturn stock_data\n",
    "\n",
    "\t@abc.abstractmethod\n",
    "\tdef fetchPrice(self, stock):\n",
    "\t\treturn NotImplemented\n",
    "\n",
    "\t@abc.abstractmethod\n",
    "\tdef fetchImage(self, stock):\n",
    "\t\treturn NotImplemented\n",
    "\n",
    "class IEXStockFetcher(StockFetcher):\n",
    "\t\"\"\"\n",
    "\tFetches stock information using iextrading.com API\n",
    "\t\"\"\"\n",
    "\n",
    "\turl_prefix = \"https://api.iextrading.com/1.0/stock/\"\n",
    "\turl_suffix_price = \"/price\"\n",
    "\turl_suffix_img = \"/logo\"\n",
    "\n",
    "\tdef __init__(self, stocks):\n",
    "\t\tsuper().__init__(stocks)\n",
    "\t\t# get the image URLs once\n",
    "\t\tself.stock_image_urls = {stock:self.fetchImage(stock) for stock in self.stocks}\n",
    "\n",
    "\tdef fetchPrice(self, stock):\n",
    "\t\t# get the price of a single stock\n",
    "\t\ttry:\n",
    "\t\t\tresp = urlopen(\"{}{}{}\".format(IEXStockFetcher.url_prefix, stock, IEXStockFetcher.url_suffix_price))\n",
    "\t\t\tprice = float(resp.readlines()[0])\n",
    "\t\t\treturn price\n",
    "\t\texcept:\n",
    "\t\t\treturn self.fetchPrice(stock)\n",
    "\n",
    "\tdef fetchImage(self, stock):\n",
    "\t\t# get the image url of a single stock\n",
    "\t\ttry:\n",
    "\t\t\tresp = urlopen(\"{}{}{}\".format(IEXStockFetcher.url_prefix, stock, IEXStockFetcher.url_suffix_img))\n",
    "\t\t\tresp = json.loads(resp.readlines()[0].decode('utf8'))\n",
    "\t\t\treturn resp['url']\n",
    "\t\texcept:\n",
    "\t\t\treturn self.fetchImage(stock)\n",
    "\n",
    "class PostgreSQLStockManager():\n",
    "\t\"\"\"\n",
    "\tRecords fetched stock data in a postgreSQL table \n",
    "\t\"\"\"\n",
    "\n",
    "\tdef __init__(self, conn, stock_fetcher):\n",
    "\t\tself.conn = conn\n",
    "\t\tself.stock_fetcher = stock_fetcher\n",
    "\n",
    "\tdef insertStock(self, table, timestamp, stock, price):\n",
    "\t\tcur = self.conn.cursor()\n",
    "\t\tquery = \"\"\"\n",
    "\t\tINSERT INTO {} (time, stock_name, price) VALUES(\n",
    "\t\t\\'{}\\',\n",
    "\t\t\\'{}\\',\n",
    "\t\t{});\n",
    "\t\t\"\"\".format(table, timestamp, stock, price)\n",
    "\t\tcur.execute(query)\n",
    "\t\tself.conn.commit()\n",
    "\n",
    "\tdef insertStockURL(self, table, stock, url):\n",
    "\t\tcur = self.conn.cursor()\n",
    "\t\tquery = \"\"\"\n",
    "\t\tINSERT INTO {} (stock_name, image_url) VALUES(\n",
    "\t\t\\'{}\\',\n",
    "\t\t\\'{}\\');\n",
    "\t\t\"\"\".format(table, stock, url)\n",
    "\t\tcur.execute(query)\n",
    "\t\tself.conn.commit()\n",
    "\n",
    "\tdef insertStockHighLow(self, table, stock, high_price, low_price):\n",
    "\t\tcur = self.conn.cursor()\n",
    "\t\tquery = \"\"\"\n",
    "\t\tINSERT INTO {} (stock_name, high_val52wk, low_val52wk) VALUES(\n",
    "\t\t\\'{}\\',\n",
    "\t\t\\'{}\\');\n",
    "\t\t\"\"\".format(table, stock, high_price, low_price)\n",
    "\t\tcur.execute(query)\n",
    "\t\tself.conn.commit()\n",
    "\n",
    "\tdef fetchInsertStockLoop(self, sleeptime=1):\n",
    "\t\twhile True:\n",
    "\t\t\tstock_updates = self.stock_fetcher.fetchAllPrices()\n",
    "\t\t\tfor stock, price in stock_updates['prices'].items():\n",
    "\t\t\t\tself.insertStock(\"stock_prices\", stock_updates['timestamp'], stock, price)\n",
    "\t\t\ttime.sleep(sleeptime)\n",
    "\n",
    "\t# def fetchfetchHighLowLoop(self, sleeptime=1000):\n",
    "\t# \twhile True:\n",
    "\t# \t\tfor stock, price in stock_updates['prices'].items():\n",
    "\t# \t\t\tself.insertStock(\"stock_high_low\", stock_updates['timestamp'], stock, price)\n",
    "\t# \t\ttime.sleep(sleeptime)\n",
    "def main():\n",
    "\tstocks_to_fetch = ['GE', 'AMZN', 'GOOG', 'TSLA', 'AAPL', 'NFLX']\n",
    "\tstock_fetcher = IEXStockFetcher(stocks_to_fetch)\n",
    "\tconn = psycopg2.connect(\"dbname=stocks user=ubuntu\")\n",
    "\tmanager = PostgreSQLStockManager(conn, stock_fetcher)\n",
    "\tmetadata_manager = PostgreSQLStockManager(conn, stock_fetcher)"
   ]
  },
  {
   "cell_type": "code",
   "execution_count": 44,
   "metadata": {},
   "outputs": [],
   "source": [
    "stocks_to_fetch = ['GE', 'AMZN', 'GOOG', 'TSLA', 'AAPL', 'NFLX']\n",
    "stocks_to_fetch = stocks_to_fetch * 10\n",
    "stock_fetcher = IEXStockFetcher(stocks_to_fetch)\n",
    "conn = psycopg2.connect(\"dbname=stocks user=ajpryor\")\n",
    "manager = PostgreSQLStockManager(conn, stock_fetcher)\n",
    "metadata_manager = PostgreSQLStockManager(conn, stock_fetcher)"
   ]
  },
  {
   "cell_type": "code",
   "execution_count": 45,
   "metadata": {},
   "outputs": [
    {
     "name": "stdout",
     "output_type": "stream",
     "text": [
      "CPU times: user 1.02 s, sys: 42 ms, total: 1.06 s\n",
      "Wall time: 11.6 s\n"
     ]
    }
   ],
   "source": [
    "%time r2 = stock_fetcher.fetchAllPrices()"
   ]
  },
  {
   "cell_type": "code",
   "execution_count": 46,
   "metadata": {},
   "outputs": [],
   "source": [
    "from urllib.request import urlopen\n",
    "import abc\n",
    "import time\n",
    "import datetime\n",
    "import json\n",
    "import psycopg2\n",
    "from threading import Thread\n",
    "from functools import partial\n",
    "\n",
    "class StockFetcher(metaclass=abc.ABCMeta):\n",
    "\t\"\"\"\n",
    "\tBase class for fetching stock information\n",
    "\t\"\"\"\n",
    "\tdef __init__(self, stocks):\n",
    "\t    self.stocks = stocks\n",
    "\n",
    "\tdef fetchAllPrices(self):\n",
    "\t\treturn NotImplemented\n",
    "\t\t# stock_data = {}\n",
    "\t\t# prices = {}\n",
    "\t\t# stock_data['timestamp'] = datetime.datetime.now()\n",
    "\t\t# threads = []\n",
    "\t\t# for stock in self.stocks:\n",
    "\t\t# \t# prices[stock] = self.fetchPrice(stock)\n",
    "\t\t# \tprices[stock] = self.fetchPrice(stock)\n",
    "\t\t# stock_data['prices'] = prices\n",
    "\t\t# return stock_data\n",
    "\n",
    "\t@abc.abstractmethod\n",
    "\tdef fetchPrice(self, stock):\n",
    "\t\treturn NotImplemented\n",
    "\n",
    "\t@abc.abstractmethod\n",
    "\tdef fetchImage(self, stock):\n",
    "\t\treturn NotImplemented\n",
    "\n",
    "class IEXStockFetcher(StockFetcher):\n",
    "\t\"\"\"\n",
    "\tFetches stock information using iextrading.com API\n",
    "\t\"\"\"\n",
    "\n",
    "\turl_prefix = \"https://api.iextrading.com/1.0/stock/\"\n",
    "\turl_suffix_price = \"/price\"\n",
    "\turl_suffix_img = \"/logo\"\n",
    "\n",
    "\tdef __init__(self, stocks):\n",
    "\t\tsuper().__init__(stocks)\n",
    "\t\t# get the image URLs once\n",
    "\t\tself.stock_image_urls = {stock:self.fetchImage(stock) for stock in self.stocks}\n",
    "\n",
    "\tdef fetchAllPrices(self):\n",
    "\t\tstock_data = {}\n",
    "\t\tprices = {}\n",
    "\t\tstock_data['timestamp'] = datetime.datetime.now()\n",
    "\t\tthreads = []\n",
    "\t\tfor stock in self.stocks:\n",
    "\t\t\tt = Thread(target=partial(self.fetchPriceInto, stock, stock_data))\n",
    "\t\t\tthreads.append(t)\n",
    "\t\t\tt.start()\n",
    "\t\tfor t in threads:\n",
    "\t\t\t t.join()\n",
    "\t\t\t# prices[stock] = self.fetchPrice(stock)\n",
    "\t\t\t# prices[stock] = self.fetchPriceInto(stock, stock_data)\n",
    "\t\tstock_data['prices'] = prices\n",
    "\t\treturn stock_data\n",
    "\n",
    "\tdef fetchPriceInto(self, stock, results=None):\n",
    "\t\t# helper function to get the price of stock and store in dict\n",
    "\t\tresults[stock] = self.fetchPrice(stock)\n",
    "\n",
    "\tdef fetchPrice(self, stock):\n",
    "\t\t# get the price of a single stock\n",
    "\t\ttry:\n",
    "\t\t\tresp = urlopen(\"{}{}{}\".format(IEXStockFetcher.url_prefix, stock, IEXStockFetcher.url_suffix_price))\n",
    "\t\t\tprice = float(resp.readlines()[0])\n",
    "\t\t\treturn price\n",
    "\t\texcept:\n",
    "\t\t\treturn self.fetchPrice(stock)\n",
    "\n",
    "\tdef fetchImage(self, stock):\n",
    "\t\t# get the image url of a single stock\n",
    "\t\ttry:\n",
    "\t\t\tresp = urlopen(\"{}{}{}\".format(IEXStockFetcher.url_prefix, stock, IEXStockFetcher.url_suffix_img))\n",
    "\t\t\tresp = json.loads(resp.readlines()[0].decode('utf8'))\n",
    "\t\t\treturn resp['url']\n",
    "\t\texcept:\n",
    "\t\t\treturn self.fetchImage(stock)\n",
    "\n",
    "class PostgreSQLStockManager():\n",
    "\t\"\"\"\n",
    "\tRecords fetched stock data in a postgreSQL table \n",
    "\t\"\"\"\n",
    "\n",
    "\tdef __init__(self, conn, stock_fetcher):\n",
    "\t\tself.conn = conn\n",
    "\t\tself.stock_fetcher = stock_fetcher\n",
    "\n",
    "\tdef insertStock(self, table, timestamp, stock, price):\n",
    "\t\tcur = self.conn.cursor()\n",
    "\t\tquery = \"\"\"\n",
    "\t\tINSERT INTO {} (time, stock_name, price) VALUES(\n",
    "\t\t\\'{}\\',\n",
    "\t\t\\'{}\\',\n",
    "\t\t{});\n",
    "\t\t\"\"\".format(table, timestamp, stock, price)\n",
    "\t\tcur.execute(query)\n",
    "\t\tself.conn.commit()\n",
    "\n",
    "\tdef insertStockURL(self, table, stock, url):\n",
    "\t\tcur = self.conn.cursor()\n",
    "\t\tquery = \"\"\"\n",
    "\t\tINSERT INTO {} (stock_name, image_url) VALUES(\n",
    "\t\t\\'{}\\',\n",
    "\t\t\\'{}\\');\n",
    "\t\t\"\"\".format(table, stock, url)\n",
    "\t\tcur.execute(query)\n",
    "\t\tself.conn.commit()\n",
    "\n",
    "\tdef insertStockHighLow(self, table, stock, high_price, low_price):\n",
    "\t\tcur = self.conn.cursor()\n",
    "\t\tquery = \"\"\"\n",
    "\t\tINSERT INTO {} (stock_name, high_val52wk, low_val52wk) VALUES(\n",
    "\t\t\\'{}\\',\n",
    "\t\t\\'{}\\');\n",
    "\t\t\"\"\".format(table, stock, high_price, low_price)\n",
    "\t\tcur.execute(query)\n",
    "\t\tself.conn.commit()\n",
    "\n",
    "\tdef fetchInsertStockLoop(self, sleeptime=1):\n",
    "\t\twhile True:\n",
    "\t\t\tstock_updates = self.stock_fetcher.fetchAllPrices()\n",
    "\t\t\tfor stock, price in stock_updates['prices'].items():\n",
    "\t\t\t\tself.insertStock(\"stock_prices\", stock_updates['timestamp'], stock, price)\n",
    "\t\t\ttime.sleep(sleeptime)"
   ]
  },
  {
   "cell_type": "code",
   "execution_count": 47,
   "metadata": {
    "collapsed": true
   },
   "outputs": [],
   "source": [
    "stocks_to_fetch = ['GE', 'AMZN', 'GOOG', 'TSLA', 'AAPL', 'NFLX']\n",
    "stocks_to_fetch = stocks_to_fetch * 10\n",
    "stock_fetcher = IEXStockFetcher(stocks_to_fetch)\n",
    "conn = psycopg2.connect(\"dbname=stocks user=ajpryor\")\n",
    "manager = PostgreSQLStockManager(conn, stock_fetcher)\n",
    "metadata_manager = PostgreSQLStockManager(conn, stock_fetcher)"
   ]
  },
  {
   "cell_type": "code",
   "execution_count": 48,
   "metadata": {},
   "outputs": [
    {
     "name": "stdout",
     "output_type": "stream",
     "text": [
      "CPU times: user 899 ms, sys: 79.2 ms, total: 978 ms\n",
      "Wall time: 983 ms\n"
     ]
    }
   ],
   "source": [
    "%time r1 = stock_fetcher.fetchAllPrices()"
   ]
  },
  {
   "cell_type": "code",
   "execution_count": 49,
   "metadata": {},
   "outputs": [
    {
     "data": {
      "text/plain": [
       "False"
      ]
     },
     "execution_count": 49,
     "metadata": {},
     "output_type": "execute_result"
    }
   ],
   "source": [
    "r2 == r1"
   ]
  },
  {
   "cell_type": "code",
   "execution_count": 50,
   "metadata": {},
   "outputs": [
    {
     "data": {
      "text/plain": [
       "{'prices': {'AAPL': 151.89,\n",
       "  'AMZN': 955.1,\n",
       "  'GE': 24.87,\n",
       "  'GOOG': 928.53,\n",
       "  'NFLX': 187.35,\n",
       "  'TSLA': 351.09},\n",
       " 'timestamp': datetime.datetime(2017, 9, 24, 7, 4, 50, 768421)}"
      ]
     },
     "execution_count": 50,
     "metadata": {},
     "output_type": "execute_result"
    }
   ],
   "source": [
    "r2"
   ]
  },
  {
   "cell_type": "code",
   "execution_count": 51,
   "metadata": {},
   "outputs": [
    {
     "data": {
      "text/plain": [
       "{'AAPL': 151.89,\n",
       " 'AMZN': 955.1,\n",
       " 'GE': 24.87,\n",
       " 'GOOG': 928.53,\n",
       " 'NFLX': 187.35,\n",
       " 'TSLA': 351.09,\n",
       " 'prices': {},\n",
       " 'timestamp': datetime.datetime(2017, 9, 24, 7, 5, 14, 66709)}"
      ]
     },
     "execution_count": 51,
     "metadata": {},
     "output_type": "execute_result"
    }
   ],
   "source": [
    "r1"
   ]
  },
  {
   "cell_type": "code",
   "execution_count": null,
   "metadata": {
    "collapsed": true
   },
   "outputs": [],
   "source": []
  }
 ],
 "metadata": {
  "kernelspec": {
   "display_name": "Python 3",
   "language": "python",
   "name": "python3"
  },
  "language_info": {
   "codemirror_mode": {
    "name": "ipython",
    "version": 3
   },
   "file_extension": ".py",
   "mimetype": "text/x-python",
   "name": "python",
   "nbconvert_exporter": "python",
   "pygments_lexer": "ipython3",
   "version": "3.6.1"
  }
 },
 "nbformat": 4,
 "nbformat_minor": 2
}
