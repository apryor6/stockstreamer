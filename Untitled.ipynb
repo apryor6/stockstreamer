{
 "cells": [
  {
   "cell_type": "code",
   "execution_count": 43,
   "metadata": {
    "collapsed": true
   },
   "outputs": [],
   "source": [
    "from urllib.request import urlopen\n",
    "import abc\n",
    "import time\n",
    "import datetime\n",
    "import json\n",
    "import psycopg2\n",
    "\n",
    "class StockFetcher(metaclass=abc.ABCMeta):\n",
    "\t\"\"\"\n",
    "\tBase class for fetching stock information\n",
    "\t\"\"\"\n",
    "\tdef __init__(self, stocks):\n",
    "\t    self.stocks = stocks\n",
    "\n",
    "\tdef fetchAllPrices(self):\n",
    "\t\tstock_data = {}\n",
    "\t\tprices = {}\n",
    "\t\tstock_data['timestamp'] = datetime.datetime.now()\n",
    "\t\tfor stock in self.stocks:\n",
    "\t\t\tprices[stock] = self.fetchPrice(stock)\n",
    "\t\tstock_data['prices'] = prices\n",
    "\t\treturn stock_data\n",
    "\n",
    "\t@abc.abstractmethod\n",
    "\tdef fetchPrice(self, stock):\n",
    "\t\treturn NotImplemented\n",
    "\n",
    "\t@abc.abstractmethod\n",
    "\tdef fetchImage(self, stock):\n",
    "\t\treturn NotImplemented\n",
    "\n",
    "class IEXStockFetcher(StockFetcher):\n",
    "\t\"\"\"\n",
    "\tFetches stock information using iextrading.com API\n",
    "\t\"\"\"\n",
    "\n",
    "\turl_prefix = \"https://api.iextrading.com/1.0/stock/\"\n",
    "\turl_suffix_price = \"/price\"\n",
    "\turl_suffix_img = \"/logo\"\n",
    "\n",
    "\tdef __init__(self, stocks):\n",
    "\t\tsuper().__init__(stocks)\n",
    "\t\t# get the image URLs once\n",
    "\t\tself.stock_image_urls = {stock:self.fetchImage(stock) for stock in self.stocks}\n",
    "\n",
    "\tdef fetchPrice(self, stock):\n",
    "\t\t# get the price of a single stock\n",
    "\t\ttry:\n",
    "\t\t\tresp = urlopen(\"{}{}{}\".format(IEXStockFetcher.url_prefix, stock, IEXStockFetcher.url_suffix_price))\n",
    "\t\t\tprice = float(resp.readlines()[0])\n",
    "\t\t\treturn price\n",
    "\t\texcept:\n",
    "\t\t\treturn self.fetchPrice(stock)\n",
    "\n",
    "\tdef fetchImage(self, stock):\n",
    "\t\t# get the image url of a single stock\n",
    "\t\ttry:\n",
    "\t\t\tresp = urlopen(\"{}{}{}\".format(IEXStockFetcher.url_prefix, stock, IEXStockFetcher.url_suffix_img))\n",
    "\t\t\tresp = json.loads(resp.readlines()[0].decode('utf8'))\n",
    "\t\t\treturn resp['url']\n",
    "\t\texcept:\n",
    "\t\t\treturn self.fetchImage(stock)\n",
    "\n",
    "class PostgreSQLStockManager():\n",
    "\t\"\"\"\n",
    "\tRecords fetched stock data in a postgreSQL table \n",
    "\t\"\"\"\n",
    "\n",
    "\tdef __init__(self, conn, stock_fetcher):\n",
    "\t\tself.conn = conn\n",
    "\t\tself.stock_fetcher = stock_fetcher\n",
    "\n",
    "\tdef insertStock(self, table, timestamp, stock, price):\n",
    "\t\tcur = self.conn.cursor()\n",
    "\t\tquery = \"\"\"\n",
    "\t\tINSERT INTO {} (time, stock_name, price) VALUES(\n",
    "\t\t\\'{}\\',\n",
    "\t\t\\'{}\\',\n",
    "\t\t{});\n",
    "\t\t\"\"\".format(table, timestamp, stock, price)\n",
    "\t\tcur.execute(query)\n",
    "\t\tself.conn.commit()\n",
    "\n",
    "\tdef insertStockURL(self, table, stock, url):\n",
    "\t\tcur = self.conn.cursor()\n",
    "\t\tquery = \"\"\"\n",
    "\t\tINSERT INTO {} (stock_name, image_url) VALUES(\n",
    "\t\t\\'{}\\',\n",
    "\t\t\\'{}\\');\n",
    "\t\t\"\"\".format(table, stock, url)\n",
    "\t\tcur.execute(query)\n",
    "\t\tself.conn.commit()\n",
    "\n",
    "\tdef insertStockHighLow(self, table, stock, high_price, low_price):\n",
    "\t\tcur = self.conn.cursor()\n",
    "\t\tquery = \"\"\"\n",
    "\t\tINSERT INTO {} (stock_name, high_val52wk, low_val52wk) VALUES(\n",
    "\t\t\\'{}\\',\n",
    "\t\t\\'{}\\');\n",
    "\t\t\"\"\".format(table, stock, high_price, low_price)\n",
    "\t\tcur.execute(query)\n",
    "\t\tself.conn.commit()\n",
    "\n",
    "\tdef fetchInsertStockLoop(self, sleeptime=1):\n",
    "\t\twhile True:\n",
    "\t\t\tstock_updates = self.stock_fetcher.fetchAllPrices()\n",
    "\t\t\tfor stock, price in stock_updates['prices'].items():\n",
    "\t\t\t\tself.insertStock(\"stock_prices\", stock_updates['timestamp'], stock, price)\n",
    "\t\t\ttime.sleep(sleeptime)\n",
    "\n",
    "\t# def fetchfetchHighLowLoop(self, sleeptime=1000):\n",
    "\t# \twhile True:\n",
    "\t# \t\tfor stock, price in stock_updates['prices'].items():\n",
    "\t# \t\t\tself.insertStock(\"stock_high_low\", stock_updates['timestamp'], stock, price)\n",
    "\t# \t\ttime.sleep(sleeptime)\n",
    "def main():\n",
    "\tstocks_to_fetch = ['GE', 'AMZN', 'GOOG', 'TSLA', 'AAPL', 'NFLX']\n",
    "\tstock_fetcher = IEXStockFetcher(stocks_to_fetch)\n",
    "\tconn = psycopg2.connect(\"dbname=stocks user=ubuntu\")\n",
    "\tmanager = PostgreSQLStockManager(conn, stock_fetcher)\n",
    "\tmetadata_manager = PostgreSQLStockManager(conn, stock_fetcher)"
   ]
  },
  {
   "cell_type": "code",
   "execution_count": 44,
   "metadata": {
    "collapsed": true
   },
   "outputs": [],
   "source": [
    "stocks_to_fetch = ['GE', 'AMZN', 'GOOG', 'TSLA', 'AAPL', 'NFLX']\n",
    "stocks_to_fetch = stocks_to_fetch * 10\n",
    "stock_fetcher = IEXStockFetcher(stocks_to_fetch)\n",
    "conn = psycopg2.connect(\"dbname=stocks user=ajpryor\")\n",
    "manager = PostgreSQLStockManager(conn, stock_fetcher)\n",
    "metadata_manager = PostgreSQLStockManager(conn, stock_fetcher)"
   ]
  },
  {
   "cell_type": "code",
   "execution_count": 45,
   "metadata": {},
   "outputs": [
    {
     "name": "stdout",
     "output_type": "stream",
     "text": [
      "CPU times: user 1.02 s, sys: 42 ms, total: 1.06 s\n",
      "Wall time: 11.6 s\n"
     ]
    }
   ],
   "source": [
    "%time r2 = stock_fetcher.fetchAllPrices()"
   ]
  },
  {
   "cell_type": "code",
   "execution_count": 46,
   "metadata": {
    "collapsed": true
   },
   "outputs": [],
   "source": [
    "from urllib.request import urlopen\n",
    "import abc\n",
    "import time\n",
    "import datetime\n",
    "import json\n",
    "import psycopg2\n",
    "from threading import Thread\n",
    "from functools import partial\n",
    "\n",
    "class StockFetcher(metaclass=abc.ABCMeta):\n",
    "\t\"\"\"\n",
    "\tBase class for fetching stock information\n",
    "\t\"\"\"\n",
    "\tdef __init__(self, stocks):\n",
    "\t    self.stocks = stocks\n",
    "\n",
    "\tdef fetchAllPrices(self):\n",
    "\t\treturn NotImplemented\n",
    "\t\t# stock_data = {}\n",
    "\t\t# prices = {}\n",
    "\t\t# stock_data['timestamp'] = datetime.datetime.now()\n",
    "\t\t# threads = []\n",
    "\t\t# for stock in self.stocks:\n",
    "\t\t# \t# prices[stock] = self.fetchPrice(stock)\n",
    "\t\t# \tprices[stock] = self.fetchPrice(stock)\n",
    "\t\t# stock_data['prices'] = prices\n",
    "\t\t# return stock_data\n",
    "\n",
    "\t@abc.abstractmethod\n",
    "\tdef fetchPrice(self, stock):\n",
    "\t\treturn NotImplemented\n",
    "\n",
    "\t@abc.abstractmethod\n",
    "\tdef fetchImage(self, stock):\n",
    "\t\treturn NotImplemented\n",
    "\n",
    "class IEXStockFetcher(StockFetcher):\n",
    "\t\"\"\"\n",
    "\tFetches stock information using iextrading.com API\n",
    "\t\"\"\"\n",
    "\n",
    "\turl_prefix = \"https://api.iextrading.com/1.0/stock/\"\n",
    "\turl_suffix_price = \"/price\"\n",
    "\turl_suffix_img = \"/logo\"\n",
    "\n",
    "\tdef __init__(self, stocks):\n",
    "\t\tsuper().__init__(stocks)\n",
    "\t\t# get the image URLs once\n",
    "\t\tself.stock_image_urls = {stock:self.fetchImage(stock) for stock in self.stocks}\n",
    "\n",
    "\tdef fetchAllPrices(self):\n",
    "\t\tstock_data = {}\n",
    "\t\tprices = {}\n",
    "\t\tstock_data['timestamp'] = datetime.datetime.now()\n",
    "\t\tthreads = []\n",
    "\t\tfor stock in self.stocks:\n",
    "\t\t\tt = Thread(target=partial(self.fetchPriceInto, stock, stock_data))\n",
    "\t\t\tthreads.append(t)\n",
    "\t\t\tt.start()\n",
    "\t\tfor t in threads:\n",
    "\t\t\t t.join()\n",
    "\t\t\t# prices[stock] = self.fetchPrice(stock)\n",
    "\t\t\t# prices[stock] = self.fetchPriceInto(stock, stock_data)\n",
    "\t\tstock_data['prices'] = prices\n",
    "\t\treturn stock_data\n",
    "\n",
    "\tdef fetchPriceInto(self, stock, results=None):\n",
    "\t\t# helper function to get the price of stock and store in dict\n",
    "\t\tresults[stock] = self.fetchPrice(stock)\n",
    "\n",
    "\tdef fetchPrice(self, stock):\n",
    "\t\t# get the price of a single stock\n",
    "\t\ttry:\n",
    "\t\t\tresp = urlopen(\"{}{}{}\".format(IEXStockFetcher.url_prefix, stock, IEXStockFetcher.url_suffix_price))\n",
    "\t\t\tprice = float(resp.readlines()[0])\n",
    "\t\t\treturn price\n",
    "\t\texcept:\n",
    "\t\t\treturn self.fetchPrice(stock)\n",
    "\n",
    "\tdef fetchImage(self, stock):\n",
    "\t\t# get the image url of a single stock\n",
    "\t\ttry:\n",
    "\t\t\tresp = urlopen(\"{}{}{}\".format(IEXStockFetcher.url_prefix, stock, IEXStockFetcher.url_suffix_img))\n",
    "\t\t\tresp = json.loads(resp.readlines()[0].decode('utf8'))\n",
    "\t\t\treturn resp['url']\n",
    "\t\texcept:\n",
    "\t\t\treturn self.fetchImage(stock)\n",
    "\n",
    "class PostgreSQLStockManager():\n",
    "\t\"\"\"\n",
    "\tRecords fetched stock data in a postgreSQL table \n",
    "\t\"\"\"\n",
    "\n",
    "\tdef __init__(self, conn, stock_fetcher):\n",
    "\t\tself.conn = conn\n",
    "\t\tself.stock_fetcher = stock_fetcher\n",
    "\n",
    "\tdef insertStock(self, table, timestamp, stock, price):\n",
    "\t\tcur = self.conn.cursor()\n",
    "\t\tquery = \"\"\"\n",
    "\t\tINSERT INTO {} (time, stock_name, price) VALUES(\n",
    "\t\t\\'{}\\',\n",
    "\t\t\\'{}\\',\n",
    "\t\t{});\n",
    "\t\t\"\"\".format(table, timestamp, stock, price)\n",
    "\t\tcur.execute(query)\n",
    "\t\tself.conn.commit()\n",
    "\n",
    "\tdef insertStockURL(self, table, stock, url):\n",
    "\t\tcur = self.conn.cursor()\n",
    "\t\tquery = \"\"\"\n",
    "\t\tINSERT INTO {} (stock_name, image_url) VALUES(\n",
    "\t\t\\'{}\\',\n",
    "\t\t\\'{}\\');\n",
    "\t\t\"\"\".format(table, stock, url)\n",
    "\t\tcur.execute(query)\n",
    "\t\tself.conn.commit()\n",
    "\n",
    "\tdef insertStockHighLow(self, table, stock, high_price, low_price):\n",
    "\t\tcur = self.conn.cursor()\n",
    "\t\tquery = \"\"\"\n",
    "\t\tINSERT INTO {} (stock_name, high_val52wk, low_val52wk) VALUES(\n",
    "\t\t\\'{}\\',\n",
    "\t\t\\'{}\\');\n",
    "\t\t\"\"\".format(table, stock, high_price, low_price)\n",
    "\t\tcur.execute(query)\n",
    "\t\tself.conn.commit()\n",
    "\n",
    "\tdef fetchInsertStockLoop(self, sleeptime=1):\n",
    "\t\twhile True:\n",
    "\t\t\tstock_updates = self.stock_fetcher.fetchAllPrices()\n",
    "\t\t\tfor stock, price in stock_updates['prices'].items():\n",
    "\t\t\t\tself.insertStock(\"stock_prices\", stock_updates['timestamp'], stock, price)\n",
    "\t\t\ttime.sleep(sleeptime)"
   ]
  },
  {
   "cell_type": "code",
   "execution_count": 47,
   "metadata": {
    "collapsed": true
   },
   "outputs": [],
   "source": [
    "stocks_to_fetch = ['GE', 'AMZN', 'GOOG', 'TSLA', 'AAPL', 'NFLX']\n",
    "stocks_to_fetch = stocks_to_fetch * 10\n",
    "stock_fetcher = IEXStockFetcher(stocks_to_fetch)\n",
    "conn = psycopg2.connect(\"dbname=stocks user=ajpryor\")\n",
    "manager = PostgreSQLStockManager(conn, stock_fetcher)\n",
    "metadata_manager = PostgreSQLStockManager(conn, stock_fetcher)"
   ]
  },
  {
   "cell_type": "code",
   "execution_count": 48,
   "metadata": {},
   "outputs": [
    {
     "name": "stdout",
     "output_type": "stream",
     "text": [
      "CPU times: user 899 ms, sys: 79.2 ms, total: 978 ms\n",
      "Wall time: 983 ms\n"
     ]
    }
   ],
   "source": [
    "%time r1 = stock_fetcher.fetchAllPrices()"
   ]
  },
  {
   "cell_type": "code",
   "execution_count": 49,
   "metadata": {},
   "outputs": [
    {
     "data": {
      "text/plain": [
       "False"
      ]
     },
     "execution_count": 49,
     "metadata": {},
     "output_type": "execute_result"
    }
   ],
   "source": [
    "r2 == r1"
   ]
  },
  {
   "cell_type": "code",
   "execution_count": 50,
   "metadata": {},
   "outputs": [
    {
     "data": {
      "text/plain": [
       "{'prices': {'AAPL': 151.89,\n",
       "  'AMZN': 955.1,\n",
       "  'GE': 24.87,\n",
       "  'GOOG': 928.53,\n",
       "  'NFLX': 187.35,\n",
       "  'TSLA': 351.09},\n",
       " 'timestamp': datetime.datetime(2017, 9, 24, 7, 4, 50, 768421)}"
      ]
     },
     "execution_count": 50,
     "metadata": {},
     "output_type": "execute_result"
    }
   ],
   "source": [
    "r2"
   ]
  },
  {
   "cell_type": "code",
   "execution_count": 51,
   "metadata": {},
   "outputs": [
    {
     "data": {
      "text/plain": [
       "{'AAPL': 151.89,\n",
       " 'AMZN': 955.1,\n",
       " 'GE': 24.87,\n",
       " 'GOOG': 928.53,\n",
       " 'NFLX': 187.35,\n",
       " 'TSLA': 351.09,\n",
       " 'prices': {},\n",
       " 'timestamp': datetime.datetime(2017, 9, 24, 7, 5, 14, 66709)}"
      ]
     },
     "execution_count": 51,
     "metadata": {},
     "output_type": "execute_result"
    }
   ],
   "source": [
    "r1"
   ]
  },
  {
   "cell_type": "code",
   "execution_count": null,
   "metadata": {
    "collapsed": true
   },
   "outputs": [],
   "source": []
  },
  {
   "cell_type": "code",
   "execution_count": null,
   "metadata": {
    "collapsed": true
   },
   "outputs": [],
   "source": []
  },
  {
   "cell_type": "code",
   "execution_count": 1,
   "metadata": {
    "collapsed": true
   },
   "outputs": [],
   "source": [
    "from bokeh.plotting import figure, curdoc, show\n",
    "from bokeh.models.sources import ColumnDataSource\n",
    "from bokeh.models import Range1d, Legend, NumeralTickFormatter, DatetimeTickFormatter, Title\n",
    "from bokeh.models.tools import PanTool, BoxZoomTool, WheelZoomTool, ResetTool\n",
    "from bokeh.layouts import row\n",
    "from bokeh.palettes import Dark2\n",
    "\n",
    "import datetime\n",
    "import psycopg2\n",
    "import pandas as pd\n",
    "import numpy as np\n",
    "\n",
    "tools = [PanTool(), BoxZoomTool(), ResetTool(), WheelZoomTool()]\n",
    "\n",
    "time_today = (datetime.datetime.today()-datetime.datetime(1970,1,1)).total_seconds()\n",
    "time_now = (datetime.datetime.today()-datetime.datetime(1970,1,1)).total_seconds()\n",
    "p = figure(title=\"STOCKSTREAMER v0.0\", tools=tools, plot_width=1000,\n",
    " y_range=Range1d(-50, 1100), x_range=Range1d(time_today, time_now),\n",
    " plot_height=680,toolbar_location='below', toolbar_sticky=False)\n",
    "# p_imgs = figure(plot_width=512, plot_height=p.plot_height, y_range=p.y_range, toolbar_location=None)\n",
    "# p_imgs = figure(plot_width=512, plot_height=680 ,toolbar_location=None)\n",
    "\n",
    "# set labels\n",
    "p.yaxis.axis_label = \"Price ($US)\"\n",
    "p.yaxis.axis_label_text_font_size = '12pt'\n",
    "p.yaxis[0].formatter = NumeralTickFormatter(format=\"$0\")\n",
    "p.xaxis[0].formatter = DatetimeTickFormatter()\n",
    "\n",
    "# p = figure(title=\"STOCKSTREAMER\")\n",
    "p.background_fill_color = \"#F0F0F0\"\n",
    "p.title.text_font = \"times\"\n",
    "p.title.text_font_size = \"16pt\"\n",
    "\n",
    "caption = Title(text='*Bounding boxes indicate 52-week high/low', align='left',\n",
    "\ttext_font_size='10pt', text_font='times', text_font_style='italic', offset=25)\n",
    "# caption.offset=-50.0\n",
    "p.add_layout(caption, 'below')\n",
    "\n",
    "# info_label = Text(x=[0], y=[-50],\n",
    "#  text=['Bounding boxes indicate 52-week high/low'], text_font='times', \n",
    "#  text_font_size=\"8pt\", text_font_style='italic')\n",
    "\n",
    "conn = psycopg2.connect(\"dbname=stocks user=ajpryor\")\n",
    "line_colors = ['red','green','black','cyan','firebrick','olive']\n",
    "line_colors = Dark2[6]\n",
    "line_dashes = ['solid']*6\n",
    "\n",
    "\n",
    "image_urls = {'GE'   :  'https://storage.googleapis.com/iex/api/logos/GE.png',\n",
    "'AMZN'  :  'https://storage.googleapis.com/iex/api/logos/AMZN.png',\n",
    "'GOOG'  :  'https://storage.googleapis.com/iex/api/logos/GOOG.png',\n",
    "'TSLA'  :  'https://storage.googleapis.com/iex/api/logos/TSLA.png',\n",
    "'AAPL'  :  'https://storage.googleapis.com/iex/api/logos/AAPL.png',\n",
    "'NFLX'  :  'https://storage.googleapis.com/iex/api/logos/NFLX.png'}\n",
    "\n",
    "def get_data():\n",
    "\tdf = pd.read_sql(\"\"\"\n",
    "\tSELECT * FROM stock_prices\n",
    "\tWHERE stock_name IN ('GE', 'AMZN', 'GOOG', 'TSLA', 'AAPL', 'NFLX')\n",
    "\tAND time >= NOW() - '7 day'::INTERVAL\n",
    "\t\"\"\", conn)\n",
    "\n",
    "\t# df['time_s'] = df['time'].apply(lambda x: (x-datetime.datetime(1970,1,1)).total_seconds())\n",
    "\tdf['time'] = df['time'].apply(lambda x: (x-datetime.datetime(1970,1,1)).total_seconds())\n",
    "\tgrouped = df.groupby('stock_name')\n",
    "\tunique_names = df.stock_name.unique()\n",
    "\tys = [grouped.get_group(stock)['price'] for stock in unique_names]\n",
    "\t# xs = [list(range(len(y))) for y in ys]\n",
    "\n",
    "\txs = [grouped.get_group(stock)['time'] for stock in unique_names]\n",
    "\tmax_ys = [np.max(y) for y in ys]\n",
    "\treturn (xs, ys, max_ys, unique_names)\n",
    "\n",
    "xs, ys, max_ys, unique_names = get_data()\n",
    "lines = []\n",
    "circles = []\n",
    "recs = []\n",
    "for i, (x, y, max_y, name) in enumerate(zip(xs, ys, max_ys, unique_names)):\n",
    "\tlines.append(p.line(x=x,\n",
    "\t    y=y,\n",
    "\t    line_alpha=1,\n",
    "\t    line_color=line_colors[i],\n",
    "\t    line_dash=line_dashes[i],\n",
    "\t    line_width=2))\n",
    "\tcircles.append(p.circle(x=x,\n",
    "\t    y=y,\n",
    "\t    line_alpha=1,\n",
    "\t    radius=0.1,\n",
    "\t    # line_color='black',\n",
    "\t    line_color=line_colors[i],\n",
    "\t    fill_color=line_colors[i],\n",
    "\t    line_dash=line_dashes[i],\n",
    "\t    line_width=1))\n",
    "\t    # legend=name))\n",
    "\t\n",
    "\tsource = ColumnDataSource(dict(y=[max_y],\n",
    "\t\t\t\t\t\t\t\t   left=[x.min()],\n",
    "\t\t\t                       right=[x.max()],\n",
    "\t\t\t                       height=[50],\n",
    "\t\t\t                       fill_alpha=[0.2],\n",
    "\t\t\t                       fill_color=[line_colors[i]],\n",
    "\t\t\t                       line_color=[line_colors[i]]))\n",
    "\trecs.append(p.hbar(y='y', left='left', right='right', height='height', fill_alpha='fill_alpha',fill_color='fill_color',\n",
    "\t\tline_alpha=0.1, line_color='line_color', line_dash='solid', line_width=0.1, source=source))\n",
    "\n",
    "legend = Legend(items=[(stock, [l]) for stock, l in zip(unique_names, lines)], location=(0,0), orientation='horizontal')\n",
    "N = len(image_urls)\n",
    "latest_timestamp = np.max(xs[0])\n",
    "source = ColumnDataSource(dict(\n",
    "    url = [image_urls[name] for name in unique_names],\n",
    "    x1  = [i.min() for i in xs],\n",
    "    y1  = max_ys,\n",
    "    w1  = [64]*N,\n",
    "    h1  = [64]*N,\n",
    "))\n",
    "\n",
    "p.x_range=Range1d(-256, xs[0].max())\n",
    "image_plot = p.image_url(url='url' ,x='x1', y='y1', w='w1', h='h1',source=source,\n",
    " anchor=\"center\", global_alpha=0.7, w_units='screen', h_units='screen')\n"
   ]
  },
  {
   "cell_type": "code",
   "execution_count": 4,
   "metadata": {},
   "outputs": [
    {
     "data": {
      "text/plain": [
       "{'fill_alpha': [0.2],\n",
       " 'fill_color': ['#e6ab02'],\n",
       " 'height': [50],\n",
       " 'left': [1506004245.498621],\n",
       " 'line_color': ['#e6ab02'],\n",
       " 'right': [1506238440.7690551],\n",
       " 'y': [366.04000000000002]}"
      ]
     },
     "execution_count": 4,
     "metadata": {},
     "output_type": "execute_result"
    }
   ],
   "source": [
    "recs[i].data_source.data"
   ]
  },
  {
   "cell_type": "code",
   "execution_count": 5,
   "metadata": {},
   "outputs": [
    {
     "data": {
      "text/plain": [
       "['__class__',\n",
       " '__contains__',\n",
       " '__delattr__',\n",
       " '__delitem__',\n",
       " '__dict__',\n",
       " '__dir__',\n",
       " '__doc__',\n",
       " '__eq__',\n",
       " '__format__',\n",
       " '__ge__',\n",
       " '__getattribute__',\n",
       " '__getitem__',\n",
       " '__gt__',\n",
       " '__hash__',\n",
       " '__init__',\n",
       " '__init_subclass__',\n",
       " '__iter__',\n",
       " '__le__',\n",
       " '__len__',\n",
       " '__lt__',\n",
       " '__module__',\n",
       " '__ne__',\n",
       " '__new__',\n",
       " '__reduce__',\n",
       " '__reduce_ex__',\n",
       " '__repr__',\n",
       " '__setattr__',\n",
       " '__setitem__',\n",
       " '__sizeof__',\n",
       " '__str__',\n",
       " '__subclasshook__',\n",
       " '__weakref__',\n",
       " '_notify_owners',\n",
       " '_owners',\n",
       " '_patch',\n",
       " '_register_owner',\n",
       " '_saved_copy',\n",
       " '_stream',\n",
       " '_unregister_owner',\n",
       " 'clear',\n",
       " 'copy',\n",
       " 'fromkeys',\n",
       " 'get',\n",
       " 'items',\n",
       " 'keys',\n",
       " 'pop',\n",
       " 'popitem',\n",
       " 'setdefault',\n",
       " 'update',\n",
       " 'values']"
      ]
     },
     "execution_count": 5,
     "metadata": {},
     "output_type": "execute_result"
    }
   ],
   "source": [
    "dir(recs[i].data_source.data)"
   ]
  },
  {
   "cell_type": "code",
   "execution_count": 6,
   "metadata": {},
   "outputs": [
    {
     "data": {
      "text/plain": [
       "{'fill_alpha': [0.2],\n",
       " 'fill_color': ['#e6ab02'],\n",
       " 'height': [50],\n",
       " 'left': [1506004245.498621],\n",
       " 'line_color': ['#e6ab02'],\n",
       " 'right': [1506238440.7690551],\n",
       " 'y': [366.04000000000002]}"
      ]
     },
     "execution_count": 6,
     "metadata": {},
     "output_type": "execute_result"
    }
   ],
   "source": [
    "recs[i].data_source.data"
   ]
  },
  {
   "cell_type": "code",
   "execution_count": 7,
   "metadata": {
    "collapsed": true
   },
   "outputs": [],
   "source": [
    "from urllib.request import urlopen\n",
    "import abc\n",
    "import time\n",
    "import datetime\n",
    "import json\n",
    "import psycopg2\n",
    "from threading import Thread\n",
    "from functools import partial\n",
    "\n",
    "class StockFetcher(metaclass=abc.ABCMeta):\n",
    "\t\"\"\"\n",
    "\tBase class for fetching stock information\n",
    "\t\"\"\"\n",
    "\tdef __init__(self, stocks):\n",
    "\t    self.stocks = stocks\n",
    "\n",
    "\t# @abc.abstractmethod\n",
    "\t# def fetchAllPrices(self):\n",
    "\t\t# return NotImplemented\n",
    "\n",
    "\t@abc.abstractmethod\n",
    "\tdef fetchPrice(self, stock):\n",
    "\t\treturn NotImplemented\n",
    "\n",
    "\t@abc.abstractmethod\n",
    "\tdef fetchImageURL(self, stock):\n",
    "\t\treturn NotImplemented\n",
    "\n",
    "class IEXStockFetcher(StockFetcher):\n",
    "\t\"\"\"\n",
    "\tFetches stock information using iextrading.com API\n",
    "\t\"\"\"\n",
    "\n",
    "\turl_prefix = \"https://api.iextrading.com/1.0/stock/\"\n",
    "\turl_suffix_price = \"/price\"\n",
    "\turl_suffix_img = \"/logo\"\n",
    "\turl_suffix_highlow = \"/quote\"\n",
    "\n",
    "\tdef __init__(self, stocks):\n",
    "\t\tsuper().__init__(stocks)\n",
    "\t\t# get the image URLs once\n",
    "\t\t# self.stock_image_urls = {stock:self.fetchImage(stock) for stock in self.stocks}\n",
    "\n",
    "\tdef fetchAllPrices(self):\n",
    "\t\tstock_data = {}\n",
    "\t\tprices = {}\n",
    "\t\tstock_data['timestamp'] = datetime.datetime.now()\n",
    "\t\tthreads = []\n",
    "\t\tfor stock in self.stocks:\n",
    "\t\t\tt = Thread(target=partial(self.fetchPriceInto, stock, prices))\n",
    "\t\t\tthreads.append(t)\n",
    "\t\t\tt.start()\n",
    "\t\tfor t in threads:\n",
    "\t\t\tt.join()\n",
    "\t\tstock_data['prices'] = prices\n",
    "\t\treturn stock_data\n",
    "\n",
    "\tdef fetchAllImages(self):\n",
    "\t\turls = {}\n",
    "\t\tthreads = []\n",
    "\t\tfor stock in self.stocks:\n",
    "\t\t\tt = Thread(target=partial(self.fetchURLInto, stock, urls))\n",
    "\t\t\tthreads.append(t)\n",
    "\t\t\tt.start()\n",
    "\t\tfor t in threads:\n",
    "\t\t\tt.join()\n",
    "\t\treturn urls\n",
    "\n",
    "\tdef fetchPriceInto(self, stock, results=None):\n",
    "\t\t# helper function to get the price of stock and store in dict\n",
    "\t\tresults[stock] = self.fetchPrice(stock)\n",
    "\n",
    "\tdef fetchURLInto(self, url, results=None):\n",
    "\t\t# helper function to get the price of stock and store in dict\n",
    "\t\tresults[url] = self.fetchImageURL(url)\n",
    "\n",
    "\tdef fetchPrice(self, stock):\n",
    "\t\t# get the price of a single stock\n",
    "\t\ttry:\n",
    "\t\t\tresp = urlopen(\"{}{}{}\".format(IEXStockFetcher.url_prefix, stock, IEXStockFetcher.url_suffix_price))\n",
    "\t\t\tprice = float(resp.readlines()[0])\n",
    "\t\t\treturn price\n",
    "\t\texcept:\n",
    "\t\t\treturn self.fetchPrice(stock)\n",
    "\n",
    "\tdef fetchImageURL(self, stock):\n",
    "\t\t# get the image url of a single stock\n",
    "\t\ttry:\n",
    "\t\t\tresp = urlopen(\"{}{}{}\".format(IEXStockFetcher.url_prefix, stock, IEXStockFetcher.url_suffix_img))\n",
    "\t\t\tresp = json.loads(resp.readlines()[0].decode('utf8'))\n",
    "\t\t\treturn resp['url']\n",
    "\t\texcept:\n",
    "\t\t\treturn self.fetchImageURL(stock)\n",
    "\n",
    "\tdef fetchStockHighLow(self, stock):\n",
    "\t\t# get the image url of a single stock\n",
    "\t\ttry:\n",
    "\t\t\tresp = urlopen(\"{}{}{}\".format(IEXStockFetcher.url_prefix, stock, IEXStockFetcher.url_suffix_highlow))\n",
    "\t\t\tresp = json.loads(resp.readlines()[0].decode('utf8'))\n",
    "\t\t\treturn resp['url']\n",
    "\t\texcept:\n",
    "\t\t\treturn self.fetchImageURL(stock)\n",
    "\n",
    "class PostgreSQLStockManager():\n",
    "\t\"\"\"\n",
    "\tRecords fetched stock data in a postgreSQL table \n",
    "\t\"\"\"\n",
    "\n",
    "\tdef __init__(self, conn, stock_fetcher):\n",
    "\t\tself.conn = conn\n",
    "\t\tself.stock_fetcher = stock_fetcher\n",
    "\n",
    "\tdef insertStock(self, table, timestamp, stock, price):\n",
    "\t\tcur = self.conn.cursor()\n",
    "\t\tquery = \"\"\"\n",
    "\t\tINSERT INTO {} (time, stock_name, price) VALUES(\n",
    "\t\t\\'{}\\',\n",
    "\t\t\\'{}\\',\n",
    "\t\t{});\n",
    "\t\t\"\"\".format(table, timestamp, stock, price)\n",
    "\t\tcur.execute(query)\n",
    "\t\tself.conn.commit()\n",
    "\n",
    "\tdef updateStockURL(self, table, stock, url):\n",
    "\t\tcur = self.conn.cursor()\n",
    "\t\tdelete_query = \"\"\"\n",
    "\t\tDELETE FROM {}\n",
    "\t\tWHERE stock_name=\\'{}\\';\n",
    "\t\t\"\"\".format(table, stock)\n",
    "\t\tquery = \"\"\"\n",
    "\t\tINSERT INTO {} (stock_name, image_url) VALUES(\n",
    "\t\t\\'{}\\',\n",
    "\t\t\\'{}\\');\n",
    "\t\t\"\"\".format(table, stock, url)\n",
    "\t\tcur.execute(delete_query)\n",
    "\t\tcur.execute(query)\n",
    "\t\tself.conn.commit()\n",
    "\n",
    "\tdef insertStockHighLow(self, table, stock, high_price, low_price):\n",
    "\t\tcur = self.conn.cursor()\n",
    "\t\tquery = \"\"\"\n",
    "\t\tINSERT INTO {} (stock_name, high_val52wk, low_val52wk) VALUES(\n",
    "\t\t\\'{}\\',\n",
    "\t\t\\'{}\\');\n",
    "\t\t\"\"\".format(table, stock, high_price, low_price)\n",
    "\t\tcur.execute(query)\n",
    "\t\tself.conn.commit()\n",
    "\n",
    "\tdef fetchInsertStockLoop(self, sleeptime=1):\n",
    "\t\twhile True:\n",
    "\t\t\tstock_updates = self.stock_fetcher.fetchAllPrices()\n",
    "\t\t\tfor stock, price in stock_updates['prices'].items():\n",
    "\t\t\t\tself.insertStock(\"stock_prices\", stock_updates['timestamp'], stock, price)\n",
    "\t\t\ttime.sleep(sleeptime)\n",
    "\n",
    "\tdef fetchInsertImageURLLoop(self, sleeptime=1):\n",
    "\t\twhile True:\n",
    "\t\t\tprint(\"fetching images\")\n",
    "\t\t\timage_updates = self.stock_fetcher.fetchAllImages()\n",
    "\t\t\tprint(image_updates)\n",
    "\t\t\tfor stock, url in image_updates.items():\n",
    "\t\t\t\tself.updateStockURL(\"stock_image_urls\", stock, url)\n",
    "\t\t\ttime.sleep(sleeptime)\n",
    "\n",
    "\t# def fetchfetchHighLowLoop(self, sleeptime=1000):\n",
    "\t# \twhile True:\n",
    "\t# \t\tfor stock, price in stock_updates['prices'].items():\n",
    "\t# \t\t\tself.insertStock(\"stock_high_low\", stock_updates['timestamp'], stock, price)\n",
    "\t# \t\ttime.sleep(sleeptime)\n",
    "def main():\n",
    "\tstocks_to_fetch = ['GE', 'AMZN', 'GOOG', 'TSLA', 'AAPL', 'NFLX']\n",
    "\tstock_fetcher = IEXStockFetcher(stocks_to_fetch)\n",
    "\tconn = psycopg2.connect(\"dbname=stocks user=ajpryor\")\n",
    "\tmanager = PostgreSQLStockManager(conn, stock_fetcher)\n",
    "# \tmetadata_manager = PostgreSQLStockManager(conn, stock_fetcher)\n",
    "\tfor stock in stocks_to_fetch:\n",
    "\t\tprint(\"Stock URL : \" , stock_fetcher.fetchImageURL(stock))"
   ]
  },
  {
   "cell_type": "code",
   "execution_count": 14,
   "metadata": {},
   "outputs": [],
   "source": [
    "stock='GOOG'\n",
    "resp = urlopen(\"{}{}{}\".format(IEXStockFetcher.url_prefix, stock, IEXStockFetcher.url_suffix_highlow))\n",
    "\n"
   ]
  },
  {
   "cell_type": "code",
   "execution_count": 15,
   "metadata": {},
   "outputs": [],
   "source": [
    "l = resp.readlines()"
   ]
  },
  {
   "cell_type": "code",
   "execution_count": 16,
   "metadata": {},
   "outputs": [
    {
     "data": {
      "text/plain": [
       "b'{\"symbol\":\"GOOG\",\"companyName\":\"Alphabet Inc.\",\"primaryExchange\":\"Nasdaq Global Select\",\"sector\":\"Technology\",\"calculationPrice\":\"close\",\"latestPrice\":928.53,\"latestSource\":\"Previous close\",\"latestTime\":\"September 22, 2017\",\"latestUpdate\":1506038400000,\"latestVolume\":1043565,\"delayedPrice\":928.53,\"delayedPriceTime\":1506112951485,\"previousClose\":932.45,\"change\":-3.92,\"changePercent\":-0.0042,\"iexMarketPercent\":null,\"avgTotalVolume\":1239087,\"marketCap\":643359390993,\"peRatio\":41.19,\"week52High\":988.25,\"week52Low\":727.54,\"ytdChange\":0.1811254992749383}'"
      ]
     },
     "execution_count": 16,
     "metadata": {},
     "output_type": "execute_result"
    }
   ],
   "source": [
    "l[0]"
   ]
  },
  {
   "cell_type": "code",
   "execution_count": 19,
   "metadata": {},
   "outputs": [
    {
     "data": {
      "text/plain": [
       "{'avgTotalVolume': 1239087,\n",
       " 'calculationPrice': 'close',\n",
       " 'change': -3.92,\n",
       " 'changePercent': -0.0042,\n",
       " 'companyName': 'Alphabet Inc.',\n",
       " 'delayedPrice': 928.53,\n",
       " 'delayedPriceTime': 1506112951485,\n",
       " 'iexMarketPercent': None,\n",
       " 'latestPrice': 928.53,\n",
       " 'latestSource': 'Previous close',\n",
       " 'latestTime': 'September 22, 2017',\n",
       " 'latestUpdate': 1506038400000,\n",
       " 'latestVolume': 1043565,\n",
       " 'marketCap': 643359390993,\n",
       " 'peRatio': 41.19,\n",
       " 'previousClose': 932.45,\n",
       " 'primaryExchange': 'Nasdaq Global Select',\n",
       " 'sector': 'Technology',\n",
       " 'symbol': 'GOOG',\n",
       " 'week52High': 988.25,\n",
       " 'week52Low': 727.54,\n",
       " 'ytdChange': 0.1811254992749383}"
      ]
     },
     "execution_count": 19,
     "metadata": {},
     "output_type": "execute_result"
    }
   ],
   "source": [
    "dict(json.loads(l[0]))"
   ]
  },
  {
   "cell_type": "code",
   "execution_count": 21,
   "metadata": {},
   "outputs": [],
   "source": [
    "from bokeh.plotting import figure, curdoc, show\n",
    "from bokeh.models.sources import ColumnDataSource\n",
    "from bokeh.models import Range1d, Legend, NumeralTickFormatter, DatetimeTickFormatter, Title\n",
    "from bokeh.models.tools import PanTool, BoxZoomTool, WheelZoomTool, ResetTool\n",
    "from bokeh.layouts import row\n",
    "from bokeh.palettes import Dark2\n",
    "\n",
    "import datetime\n",
    "import psycopg2\n",
    "import pandas as pd\n",
    "import numpy as np\n",
    "\n",
    "tools = [PanTool(), BoxZoomTool(), ResetTool(), WheelZoomTool()]\n",
    "\n",
    "time_today = (datetime.datetime.today()-datetime.datetime(1970,1,1)).total_seconds()\n",
    "time_now = (datetime.datetime.today()-datetime.datetime(1970,1,1)).total_seconds()\n",
    "p = figure(title=\"STOCKSTREAMER v0.0\", tools=tools, plot_width=1000,\n",
    " y_range=Range1d(-50, 1100), x_range=Range1d(time_today, time_now),\n",
    " plot_height=680,toolbar_location='below', toolbar_sticky=False)\n",
    "\n",
    "# set labels\n",
    "p.yaxis.axis_label = \"Price ($US)\"\n",
    "p.yaxis.axis_label_text_font_size = '12pt'\n",
    "p.yaxis[0].formatter = NumeralTickFormatter(format=\"$0\")\n",
    "p.xaxis[0].formatter = DatetimeTickFormatter()\n",
    "\n",
    "p.background_fill_color = \"#F0F0F0\"\n",
    "p.title.text_font = \"times\"\n",
    "p.title.text_font_size = \"16pt\"\n",
    "\n",
    "info_label = Title(text='*Bounding boxes indicate 52-week high/low', align='left',\n",
    "\ttext_font_size='10pt', text_font='times', text_font_style='italic', offset=25)\n",
    "p.add_layout(info_label, 'below')\n",
    "\n",
    "\n",
    "conn = psycopg2.connect(\"dbname=stocks user=ajpryor\")\n",
    "line_colors = ['red','green','black','cyan','firebrick','olive']\n",
    "line_colors = Dark2[6]\n",
    "line_dashes = ['solid']*6\n",
    "\n",
    "image_urls = pd.read_sql(\"\"\"\n",
    "\tSELECT * FROM stock_image_urls;\n",
    "\t\"\"\", conn)\n"
   ]
  },
  {
   "cell_type": "code",
   "execution_count": 22,
   "metadata": {},
   "outputs": [
    {
     "data": {
      "text/html": [
       "<div>\n",
       "<style>\n",
       "    .dataframe thead tr:only-child th {\n",
       "        text-align: right;\n",
       "    }\n",
       "\n",
       "    .dataframe thead th {\n",
       "        text-align: left;\n",
       "    }\n",
       "\n",
       "    .dataframe tbody tr th {\n",
       "        vertical-align: top;\n",
       "    }\n",
       "</style>\n",
       "<table border=\"1\" class=\"dataframe\">\n",
       "  <thead>\n",
       "    <tr style=\"text-align: right;\">\n",
       "      <th></th>\n",
       "      <th>stock_name</th>\n",
       "      <th>image_url</th>\n",
       "    </tr>\n",
       "  </thead>\n",
       "  <tbody>\n",
       "    <tr>\n",
       "      <th>0</th>\n",
       "      <td>GE</td>\n",
       "      <td>https://storage.googleapis.com/iex/api/logos/G...</td>\n",
       "    </tr>\n",
       "    <tr>\n",
       "      <th>1</th>\n",
       "      <td>AMZN</td>\n",
       "      <td>https://storage.googleapis.com/iex/api/logos/A...</td>\n",
       "    </tr>\n",
       "    <tr>\n",
       "      <th>2</th>\n",
       "      <td>GOOG</td>\n",
       "      <td>https://storage.googleapis.com/iex/api/logos/G...</td>\n",
       "    </tr>\n",
       "    <tr>\n",
       "      <th>3</th>\n",
       "      <td>NFLX</td>\n",
       "      <td>https://storage.googleapis.com/iex/api/logos/N...</td>\n",
       "    </tr>\n",
       "    <tr>\n",
       "      <th>4</th>\n",
       "      <td>AAPL</td>\n",
       "      <td>https://storage.googleapis.com/iex/api/logos/A...</td>\n",
       "    </tr>\n",
       "    <tr>\n",
       "      <th>5</th>\n",
       "      <td>TSLA</td>\n",
       "      <td>https://storage.googleapis.com/iex/api/logos/T...</td>\n",
       "    </tr>\n",
       "  </tbody>\n",
       "</table>\n",
       "</div>"
      ],
      "text/plain": [
       "  stock_name                                          image_url\n",
       "0         GE  https://storage.googleapis.com/iex/api/logos/G...\n",
       "1       AMZN  https://storage.googleapis.com/iex/api/logos/A...\n",
       "2       GOOG  https://storage.googleapis.com/iex/api/logos/G...\n",
       "3       NFLX  https://storage.googleapis.com/iex/api/logos/N...\n",
       "4       AAPL  https://storage.googleapis.com/iex/api/logos/A...\n",
       "5       TSLA  https://storage.googleapis.com/iex/api/logos/T..."
      ]
     },
     "execution_count": 22,
     "metadata": {},
     "output_type": "execute_result"
    }
   ],
   "source": [
    "image_urls"
   ]
  },
  {
   "cell_type": "code",
   "execution_count": 23,
   "metadata": {},
   "outputs": [
    {
     "name": "stdout",
     "output_type": "stream",
     "text": [
      "(0, stock_name                                                   GE\n",
      "image_url     https://storage.googleapis.com/iex/api/logos/G...\n",
      "Name: 0, dtype: object)\n",
      "(1, stock_name                                                 AMZN\n",
      "image_url     https://storage.googleapis.com/iex/api/logos/A...\n",
      "Name: 1, dtype: object)\n",
      "(2, stock_name                                                 GOOG\n",
      "image_url     https://storage.googleapis.com/iex/api/logos/G...\n",
      "Name: 2, dtype: object)\n",
      "(3, stock_name                                                 NFLX\n",
      "image_url     https://storage.googleapis.com/iex/api/logos/N...\n",
      "Name: 3, dtype: object)\n",
      "(4, stock_name                                                 AAPL\n",
      "image_url     https://storage.googleapis.com/iex/api/logos/A...\n",
      "Name: 4, dtype: object)\n",
      "(5, stock_name                                                 TSLA\n",
      "image_url     https://storage.googleapis.com/iex/api/logos/T...\n",
      "Name: 5, dtype: object)\n"
     ]
    }
   ],
   "source": [
    "for row in image_urls.iterrows():\n",
    "    print (row)"
   ]
  },
  {
   "cell_type": "code",
   "execution_count": 24,
   "metadata": {},
   "outputs": [
    {
     "data": {
      "text/plain": [
       "(0, stock_name                                                   GE\n",
       " image_url     https://storage.googleapis.com/iex/api/logos/G...\n",
       " Name: 0, dtype: object)"
      ]
     },
     "execution_count": 24,
     "metadata": {},
     "output_type": "execute_result"
    }
   ],
   "source": [
    "next(image_urls.iterrows())"
   ]
  },
  {
   "cell_type": "code",
   "execution_count": 25,
   "metadata": {
    "collapsed": true
   },
   "outputs": [],
   "source": [
    "a=next(image_urls.iterrows())"
   ]
  },
  {
   "cell_type": "code",
   "execution_count": 26,
   "metadata": {},
   "outputs": [
    {
     "data": {
      "text/plain": [
       "tuple"
      ]
     },
     "execution_count": 26,
     "metadata": {},
     "output_type": "execute_result"
    }
   ],
   "source": [
    "type(a)"
   ]
  },
  {
   "cell_type": "code",
   "execution_count": 29,
   "metadata": {},
   "outputs": [
    {
     "data": {
      "text/plain": [
       "pandas.core.series.Series"
      ]
     },
     "execution_count": 29,
     "metadata": {},
     "output_type": "execute_result"
    }
   ],
   "source": [
    "type(a[1])"
   ]
  },
  {
   "cell_type": "code",
   "execution_count": 31,
   "metadata": {},
   "outputs": [],
   "source": [
    "image_urls = {stock:url for (stock, url) in zip(image_urls['stock_name'], image_urls['image_url'])}\n"
   ]
  },
  {
   "cell_type": "code",
   "execution_count": 32,
   "metadata": {},
   "outputs": [
    {
     "data": {
      "text/plain": [
       "{'AAPL': 'https://storage.googleapis.com/iex/api/logos/AAPL.png',\n",
       " 'AMZN': 'https://storage.googleapis.com/iex/api/logos/AMZN.png',\n",
       " 'GE': 'https://storage.googleapis.com/iex/api/logos/GE.png',\n",
       " 'GOOG': 'https://storage.googleapis.com/iex/api/logos/GOOG.png',\n",
       " 'NFLX': 'https://storage.googleapis.com/iex/api/logos/NFLX.png',\n",
       " 'TSLA': 'https://storage.googleapis.com/iex/api/logos/TSLA.png'}"
      ]
     },
     "execution_count": 32,
     "metadata": {},
     "output_type": "execute_result"
    }
   ],
   "source": [
    "image_urls"
   ]
  },
  {
   "cell_type": "code",
   "execution_count": 37,
   "metadata": {},
   "outputs": [],
   "source": [
    "stock_highlow = pd.read_sql(\"\"\"\n",
    "\tSELECT * FROM stock_highlow;\n",
    "\t\"\"\", conn)\n",
    "stock_highlow = stock_highlow.set_index('stock_name')"
   ]
  },
  {
   "cell_type": "code",
   "execution_count": 46,
   "metadata": {},
   "outputs": [],
   "source": [
    "from bokeh.plotting import figure, curdoc, show\n",
    "from bokeh.models.sources import ColumnDataSource\n",
    "from bokeh.models import Range1d, Legend, NumeralTickFormatter, DatetimeTickFormatter, Title\n",
    "from bokeh.models.tools import PanTool, BoxZoomTool, WheelZoomTool, ResetTool\n",
    "from bokeh.layouts import row\n",
    "from bokeh.palettes import Dark2\n",
    "\n",
    "import datetime\n",
    "import psycopg2\n",
    "import pandas as pd\n",
    "import numpy as np\n",
    "\n",
    "tools = [PanTool(), BoxZoomTool(), ResetTool(), WheelZoomTool()]\n",
    "\n",
    "time_today = (datetime.datetime.today()-datetime.datetime(1970,1,1)).total_seconds()\n",
    "time_now = (datetime.datetime.today()-datetime.datetime(1970,1,1)).total_seconds()\n",
    "p = figure(title=\"STOCKSTREAMER v0.0\", tools=tools, plot_width=1000,\n",
    " y_range=Range1d(-50, 1100), x_range=Range1d(time_today, time_now),\n",
    " plot_height=680,toolbar_location='below', toolbar_sticky=False)\n",
    "\n",
    "# set labels\n",
    "p.yaxis.axis_label = \"Price ($US)\"\n",
    "p.yaxis.axis_label_text_font_size = '12pt'\n",
    "p.yaxis[0].formatter = NumeralTickFormatter(format=\"$0\")\n",
    "p.xaxis[0].formatter = DatetimeTickFormatter()\n",
    "\n",
    "p.background_fill_color = \"#F0F0F0\"\n",
    "p.title.text_font = \"times\"\n",
    "p.title.text_font_size = \"16pt\"\n",
    "\n",
    "info_label = Title(text='*Bounding boxes indicate 52-week high/low', align='left',\n",
    "\ttext_font_size='10pt', text_font='times', text_font_style='italic', offset=25)\n",
    "p.add_layout(info_label, 'below')\n",
    "\n",
    "\n",
    "conn = psycopg2.connect(\"dbname=stocks user=ajpryor\")\n",
    "line_colors = ['red','green','black','cyan','firebrick','olive']\n",
    "line_colors = Dark2[6]\n",
    "line_dashes = ['solid']*6\n",
    "\n",
    "\n",
    "\n",
    "# get stock image urls and convert to dict\n",
    "image_urls = pd.read_sql(\"\"\"\n",
    "\tSELECT * FROM stock_image_urls;\n",
    "\t\"\"\", conn)\n",
    "image_urls.set_index('stock_name', inplace=True)\n",
    "# image_urls = {stock:url for (stock, url) in zip(image_urls['stock_name'], image_urls['image_url'])}\n",
    "\n",
    "\n",
    "stock_highlow = pd.read_sql(\"\"\"\n",
    "\tSELECT * FROM stock_highlow;\n",
    "\t\"\"\", conn)\n",
    "stock_highlow.set_index('stock_name', inplace=True)"
   ]
  },
  {
   "cell_type": "code",
   "execution_count": 47,
   "metadata": {},
   "outputs": [
    {
     "data": {
      "text/html": [
       "<div>\n",
       "<style>\n",
       "    .dataframe thead tr:only-child th {\n",
       "        text-align: right;\n",
       "    }\n",
       "\n",
       "    .dataframe thead th {\n",
       "        text-align: left;\n",
       "    }\n",
       "\n",
       "    .dataframe tbody tr th {\n",
       "        vertical-align: top;\n",
       "    }\n",
       "</style>\n",
       "<table border=\"1\" class=\"dataframe\">\n",
       "  <thead>\n",
       "    <tr style=\"text-align: right;\">\n",
       "      <th></th>\n",
       "      <th>image_url</th>\n",
       "    </tr>\n",
       "    <tr>\n",
       "      <th>stock_name</th>\n",
       "      <th></th>\n",
       "    </tr>\n",
       "  </thead>\n",
       "  <tbody>\n",
       "    <tr>\n",
       "      <th>GOOG</th>\n",
       "      <td>https://storage.googleapis.com/iex/api/logos/G...</td>\n",
       "    </tr>\n",
       "    <tr>\n",
       "      <th>TSLA</th>\n",
       "      <td>https://storage.googleapis.com/iex/api/logos/T...</td>\n",
       "    </tr>\n",
       "    <tr>\n",
       "      <th>GE</th>\n",
       "      <td>https://storage.googleapis.com/iex/api/logos/G...</td>\n",
       "    </tr>\n",
       "    <tr>\n",
       "      <th>AAPL</th>\n",
       "      <td>https://storage.googleapis.com/iex/api/logos/A...</td>\n",
       "    </tr>\n",
       "    <tr>\n",
       "      <th>AMZN</th>\n",
       "      <td>https://storage.googleapis.com/iex/api/logos/A...</td>\n",
       "    </tr>\n",
       "    <tr>\n",
       "      <th>NVDA</th>\n",
       "      <td>https://storage.googleapis.com/iex/api/logos/N...</td>\n",
       "    </tr>\n",
       "    <tr>\n",
       "      <th>WMT</th>\n",
       "      <td>https://storage.googleapis.com/iex/api/logos/W...</td>\n",
       "    </tr>\n",
       "    <tr>\n",
       "      <th>NFLX</th>\n",
       "      <td>https://storage.googleapis.com/iex/api/logos/N...</td>\n",
       "    </tr>\n",
       "  </tbody>\n",
       "</table>\n",
       "</div>"
      ],
      "text/plain": [
       "                                                    image_url\n",
       "stock_name                                                   \n",
       "GOOG        https://storage.googleapis.com/iex/api/logos/G...\n",
       "TSLA        https://storage.googleapis.com/iex/api/logos/T...\n",
       "GE          https://storage.googleapis.com/iex/api/logos/G...\n",
       "AAPL        https://storage.googleapis.com/iex/api/logos/A...\n",
       "AMZN        https://storage.googleapis.com/iex/api/logos/A...\n",
       "NVDA        https://storage.googleapis.com/iex/api/logos/N...\n",
       "WMT         https://storage.googleapis.com/iex/api/logos/W...\n",
       "NFLX        https://storage.googleapis.com/iex/api/logos/N..."
      ]
     },
     "execution_count": 47,
     "metadata": {},
     "output_type": "execute_result"
    }
   ],
   "source": [
    "image_urls"
   ]
  },
  {
   "cell_type": "code",
   "execution_count": null,
   "metadata": {
    "collapsed": true
   },
   "outputs": [],
   "source": []
  }
 ],
 "metadata": {
  "kernelspec": {
   "display_name": "Python 3",
   "language": "python",
   "name": "python3"
  },
  "language_info": {
   "codemirror_mode": {
    "name": "ipython",
    "version": 3
   },
   "file_extension": ".py",
   "mimetype": "text/x-python",
   "name": "python",
   "nbconvert_exporter": "python",
   "pygments_lexer": "ipython3",
   "version": "3.6.1"
  }
 },
 "nbformat": 4,
 "nbformat_minor": 2
}
