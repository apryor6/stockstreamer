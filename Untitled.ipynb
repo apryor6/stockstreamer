{
 "cells": [
  {
   "cell_type": "code",
   "execution_count": 124,
   "metadata": {
    "collapsed": true
   },
   "outputs": [],
   "source": [
    "from bokeh.plotting import figure, curdoc, show\n",
    "from bokeh.models.sources import ColumnDataSource\n",
    "from bokeh.models import Range1d, Legend, NumeralTickFormatter\n",
    "from bokeh.models.tools import PanTool, BoxZoomTool, WheelZoomTool, ResetTool\n",
    "from bokeh.layouts import row\n",
    "from bokeh.palettes import Dark2\n",
    "\n",
    "import datetime\n",
    "import psycopg2\n",
    "import pandas as pd\n",
    "import numpy as np\n",
    "\n",
    "tools = [PanTool(), BoxZoomTool(), ResetTool(), WheelZoomTool()]\n",
    "p = figure(title=\"STOCKSTREAMER v0.0\", tools=tools, plot_width=1000, y_range=Range1d(-50, 1100), plot_height=680,toolbar_location='below', toolbar_sticky=False)\n",
    "# p_imgs = figure(plot_width=512, plot_height=p.plot_height, y_range=p.y_range, toolbar_location=None)\n",
    "# p_imgs = figure(plot_width=512, plot_height=680 ,toolbar_location=None)\n",
    "\n",
    "# set labels\n",
    "p.yaxis.axis_label = \"Price ($US)\"\n",
    "p.yaxis.axis_label_text_font_size = '12pt'\n",
    "p.yaxis[0].formatter = NumeralTickFormatter(format=\"$0\")\n",
    "\n",
    "# p = figure(title=\"STOCKSTREAMER\")\n",
    "p.background_fill_color = \"#F0F0F0\"\n",
    "p.title.text_font = \"times\"\n",
    "p.title.text_font_size = \"16pt\"\n",
    "\n",
    "p.text(x=[0], y=[-50],\n",
    " text=['Bounding boxes indicate 52-week high/low'], text_font='times', \n",
    " text_font_size=\"8pt\", text_font_style='italic')\n",
    "\n",
    "conn = psycopg2.connect(\"dbname=stocks user=ajpryor\")\n",
    "line_colors = ['red','green','black','cyan','firebrick','olive']\n",
    "line_colors = Dark2[6]\n",
    "line_dashes = ['solid']*6\n",
    "\n",
    "\n",
    "image_urls = {'GE'   :  'https://storage.googleapis.com/iex/api/logos/GE.png',\n",
    "'AMZN'  :  'https://storage.googleapis.com/iex/api/logos/AMZN.png',\n",
    "'GOOG'  :  'https://storage.googleapis.com/iex/api/logos/GOOG.png',\n",
    "'TSLA'  :  'https://storage.googleapis.com/iex/api/logos/TSLA.png',\n",
    "'AAPL'  :  'https://storage.googleapis.com/iex/api/logos/AAPL.png',\n",
    "'NFLX'  :  'https://storage.googleapis.com/iex/api/logos/NFLX.png'}\n",
    "\n",
    "def get_data():\n",
    "\tdf = pd.read_sql(\"\"\"\n",
    "\tSELECT * FROM stock_prices\n",
    "\tWHERE stock_name IN ('GE', 'AMZN', 'GOOG', 'TSLA', 'AAPL', 'NFLX')\n",
    "\tAND time >= NOW() - '7 day'::INTERVAL\n",
    "\t\"\"\", conn)\n",
    "\n",
    "\tgrouped = df.groupby('stock_name')\n",
    "\tunique_names = df.stock_name.unique()\n",
    "\tys = [grouped.get_group(stock)['price'] for stock in unique_names]\n",
    "\t# xs = [list(range(len(y))) for y in ys]\n",
    "\n",
    "\txs = [grouped.get_group(stock)['time'] for stock in unique_names]\n",
    "\tmax_ys = [np.max(y) for y in ys]\n",
    "\treturn (xs, ys, max_ys, unique_names)\n",
    "\n",
    "xs, ys, max_ys, unique_names = get_data()\n",
    "lines = []\n",
    "circles = []\n",
    "recs = []\n",
    "for i, (x, y, max_y, name) in enumerate(zip(xs, ys, max_ys, unique_names)):\n",
    "\tlines.append(p.line(x=x,\n",
    "\t    y=y,\n",
    "\t    line_alpha=1,\n",
    "\t    line_color=line_colors[i],\n",
    "\t    line_dash=line_dashes[i],\n",
    "\t    line_width=5))\n",
    "\tcircles.append(p.circle(x=x,\n",
    "\t    y=y,\n",
    "\t    line_alpha=1,\n",
    "\t    radius=0.1,\n",
    "\t    # line_color='black',\n",
    "\t    line_color=line_colors[i],\n",
    "\t    fill_color=line_colors[i],\n",
    "\t    line_dash=line_dashes[i],\n",
    "\t    line_width=1))"
   ]
  },
  {
   "cell_type": "code",
   "execution_count": 127,
   "metadata": {},
   "outputs": [
    {
     "data": {
      "text/plain": [
       "dtype('<M8[ns]')"
      ]
     },
     "execution_count": 127,
     "metadata": {},
     "output_type": "execute_result"
    }
   ],
   "source": [
    "xs[0].dtype"
   ]
  },
  {
   "cell_type": "code",
   "execution_count": 128,
   "metadata": {
    "collapsed": true
   },
   "outputs": [],
   "source": [
    "import datetime"
   ]
  },
  {
   "cell_type": "code",
   "execution_count": 130,
   "metadata": {},
   "outputs": [
    {
     "ename": "TypeError",
     "evalue": "an integer is required (got type Timestamp)",
     "output_type": "error",
     "traceback": [
      "\u001b[0;31m---------------------------------------------------------------------------\u001b[0m",
      "\u001b[0;31mTypeError\u001b[0m                                 Traceback (most recent call last)",
      "\u001b[0;32m<ipython-input-130-66ddabded102>\u001b[0m in \u001b[0;36m<module>\u001b[0;34m()\u001b[0m\n\u001b[0;32m----> 1\u001b[0;31m \u001b[0mdatetime\u001b[0m\u001b[0;34m.\u001b[0m\u001b[0mdatetime\u001b[0m\u001b[0;34m(\u001b[0m\u001b[0mxs\u001b[0m\u001b[0;34m[\u001b[0m\u001b[0;36m0\u001b[0m\u001b[0;34m]\u001b[0m\u001b[0;34m[\u001b[0m\u001b[0;36m0\u001b[0m\u001b[0;34m]\u001b[0m\u001b[0;34m)\u001b[0m\u001b[0;34m\u001b[0m\u001b[0m\n\u001b[0m",
      "\u001b[0;31mTypeError\u001b[0m: an integer is required (got type Timestamp)"
     ]
    }
   ],
   "source": [
    "datetime.datetime(xs[0][0])"
   ]
  },
  {
   "cell_type": "code",
   "execution_count": 131,
   "metadata": {},
   "outputs": [
    {
     "data": {
      "text/plain": [
       "Timestamp('2017-09-21 00:00:00')"
      ]
     },
     "execution_count": 131,
     "metadata": {},
     "output_type": "execute_result"
    }
   ],
   "source": [
    "xs[0][0]"
   ]
  },
  {
   "cell_type": "code",
   "execution_count": 140,
   "metadata": {},
   "outputs": [
    {
     "data": {
      "text/plain": [
       "datetime.datetime(2017, 9, 23, 7, 42, 16, 36639)"
      ]
     },
     "execution_count": 140,
     "metadata": {},
     "output_type": "execute_result"
    }
   ],
   "source": [
    "import datetime\n",
    "datetime.datetime.now()"
   ]
  },
  {
   "cell_type": "code",
   "execution_count": 135,
   "metadata": {},
   "outputs": [
    {
     "data": {
      "text/plain": [
       "1505952000.0"
      ]
     },
     "execution_count": 135,
     "metadata": {},
     "output_type": "execute_result"
    }
   ],
   "source": [
    "t=xs[0][0]\n",
    "(t-datetime.datetime(1970,1,1)).total_seconds()"
   ]
  },
  {
   "cell_type": "code",
   "execution_count": 137,
   "metadata": {
    "collapsed": true
   },
   "outputs": [],
   "source": [
    "df = pd.read_sql(\"\"\"\n",
    "\tSELECT * FROM stock_prices\n",
    "\tWHERE stock_name IN ('GE', 'AMZN', 'GOOG', 'TSLA', 'AAPL', 'NFLX')\n",
    "\tAND time >= NOW() - '7 day'::INTERVAL\n",
    "\t\"\"\", conn)"
   ]
  },
  {
   "cell_type": "code",
   "execution_count": 138,
   "metadata": {
    "collapsed": true
   },
   "outputs": [],
   "source": [
    "df['time_s'] = df['time'].apply(lambda x: (x-datetime.datetime(1970,1,1)).total_seconds())"
   ]
  },
  {
   "cell_type": "code",
   "execution_count": 142,
   "metadata": {},
   "outputs": [
    {
     "data": {
      "text/html": [
       "<div style=\"display: table;\"><div style=\"display: table-row;\"><div style=\"display: table-cell;\"><b title=\"bokeh.models.ranges.DataRange1d\">DataRange1d</b>(</div><div style=\"display: table-cell;\">id&nbsp;=&nbsp;'7f7ee8d3-b2a4-437a-9635-cdaa4d817be6', <span id=\"dbda4654-ccf3-4fbe-91a3-987338a9bb9a\" style=\"cursor: pointer;\">&hellip;)</span></div></div><div class=\"07e64920-ceb2-4fb1-8c52-b278c1bf94dd\" style=\"display: none;\"><div style=\"display: table-cell;\"></div><div style=\"display: table-cell;\">bounds&nbsp;=&nbsp;None,</div></div><div class=\"07e64920-ceb2-4fb1-8c52-b278c1bf94dd\" style=\"display: none;\"><div style=\"display: table-cell;\"></div><div style=\"display: table-cell;\">callback&nbsp;=&nbsp;None,</div></div><div class=\"07e64920-ceb2-4fb1-8c52-b278c1bf94dd\" style=\"display: none;\"><div style=\"display: table-cell;\"></div><div style=\"display: table-cell;\">default_span&nbsp;=&nbsp;2.0,</div></div><div class=\"07e64920-ceb2-4fb1-8c52-b278c1bf94dd\" style=\"display: none;\"><div style=\"display: table-cell;\"></div><div style=\"display: table-cell;\">end&nbsp;=&nbsp;None,</div></div><div class=\"07e64920-ceb2-4fb1-8c52-b278c1bf94dd\" style=\"display: none;\"><div style=\"display: table-cell;\"></div><div style=\"display: table-cell;\">flipped&nbsp;=&nbsp;False,</div></div><div class=\"07e64920-ceb2-4fb1-8c52-b278c1bf94dd\" style=\"display: none;\"><div style=\"display: table-cell;\"></div><div style=\"display: table-cell;\">follow&nbsp;=&nbsp;None,</div></div><div class=\"07e64920-ceb2-4fb1-8c52-b278c1bf94dd\" style=\"display: none;\"><div style=\"display: table-cell;\"></div><div style=\"display: table-cell;\">follow_interval&nbsp;=&nbsp;None,</div></div><div class=\"07e64920-ceb2-4fb1-8c52-b278c1bf94dd\" style=\"display: none;\"><div style=\"display: table-cell;\"></div><div style=\"display: table-cell;\">js_event_callbacks&nbsp;=&nbsp;{},</div></div><div class=\"07e64920-ceb2-4fb1-8c52-b278c1bf94dd\" style=\"display: none;\"><div style=\"display: table-cell;\"></div><div style=\"display: table-cell;\">js_property_callbacks&nbsp;=&nbsp;{},</div></div><div class=\"07e64920-ceb2-4fb1-8c52-b278c1bf94dd\" style=\"display: none;\"><div style=\"display: table-cell;\"></div><div style=\"display: table-cell;\">max_interval&nbsp;=&nbsp;None,</div></div><div class=\"07e64920-ceb2-4fb1-8c52-b278c1bf94dd\" style=\"display: none;\"><div style=\"display: table-cell;\"></div><div style=\"display: table-cell;\">min_interval&nbsp;=&nbsp;None,</div></div><div class=\"07e64920-ceb2-4fb1-8c52-b278c1bf94dd\" style=\"display: none;\"><div style=\"display: table-cell;\"></div><div style=\"display: table-cell;\">name&nbsp;=&nbsp;None,</div></div><div class=\"07e64920-ceb2-4fb1-8c52-b278c1bf94dd\" style=\"display: none;\"><div style=\"display: table-cell;\"></div><div style=\"display: table-cell;\">names&nbsp;=&nbsp;[],</div></div><div class=\"07e64920-ceb2-4fb1-8c52-b278c1bf94dd\" style=\"display: none;\"><div style=\"display: table-cell;\"></div><div style=\"display: table-cell;\">range_padding&nbsp;=&nbsp;0.1,</div></div><div class=\"07e64920-ceb2-4fb1-8c52-b278c1bf94dd\" style=\"display: none;\"><div style=\"display: table-cell;\"></div><div style=\"display: table-cell;\">range_padding_units&nbsp;=&nbsp;'percent',</div></div><div class=\"07e64920-ceb2-4fb1-8c52-b278c1bf94dd\" style=\"display: none;\"><div style=\"display: table-cell;\"></div><div style=\"display: table-cell;\">renderers&nbsp;=&nbsp;[],</div></div><div class=\"07e64920-ceb2-4fb1-8c52-b278c1bf94dd\" style=\"display: none;\"><div style=\"display: table-cell;\"></div><div style=\"display: table-cell;\">start&nbsp;=&nbsp;None,</div></div><div class=\"07e64920-ceb2-4fb1-8c52-b278c1bf94dd\" style=\"display: none;\"><div style=\"display: table-cell;\"></div><div style=\"display: table-cell;\">subscribed_events&nbsp;=&nbsp;[],</div></div><div class=\"07e64920-ceb2-4fb1-8c52-b278c1bf94dd\" style=\"display: none;\"><div style=\"display: table-cell;\"></div><div style=\"display: table-cell;\">tags&nbsp;=&nbsp;[])</div></div></div>\n",
       "<script>\n",
       "(function() {\n",
       "  var expanded = false;\n",
       "  var ellipsis = document.getElementById(\"dbda4654-ccf3-4fbe-91a3-987338a9bb9a\");\n",
       "  ellipsis.addEventListener(\"click\", function() {\n",
       "    var rows = document.getElementsByClassName(\"07e64920-ceb2-4fb1-8c52-b278c1bf94dd\");\n",
       "    for (var i = 0; i < rows.length; i++) {\n",
       "      var el = rows[i];\n",
       "      el.style.display = expanded ? \"none\" : \"table-row\";\n",
       "    }\n",
       "    ellipsis.innerHTML = expanded ? \"&hellip;)\" : \"&lsaquo;&lsaquo;&lsaquo;\";\n",
       "    expanded = !expanded;\n",
       "  });\n",
       "})();\n",
       "</script>\n"
      ],
      "text/plain": [
       "DataRange1d(id='7f7ee8d3-b2a4-437a-9635-cdaa4d817be6', ...)"
      ]
     },
     "execution_count": 142,
     "metadata": {},
     "output_type": "execute_result"
    }
   ],
   "source": [
    "p.x_range"
   ]
  },
  {
   "cell_type": "code",
   "execution_count": 146,
   "metadata": {},
   "outputs": [],
   "source": [
    "p.x_range.start"
   ]
  },
  {
   "cell_type": "code",
   "execution_count": 147,
   "metadata": {},
   "outputs": [
    {
     "name": "stdout",
     "output_type": "stream",
     "text": [
      "None\n"
     ]
    }
   ],
   "source": [
    "print(p.x_range.start)"
   ]
  },
  {
   "cell_type": "code",
   "execution_count": null,
   "metadata": {
    "collapsed": true
   },
   "outputs": [],
   "source": []
  }
 ],
 "metadata": {
  "kernelspec": {
   "display_name": "Python 3",
   "language": "python",
   "name": "python3"
  },
  "language_info": {
   "codemirror_mode": {
    "name": "ipython",
    "version": 3
   },
   "file_extension": ".py",
   "mimetype": "text/x-python",
   "name": "python",
   "nbconvert_exporter": "python",
   "pygments_lexer": "ipython3",
   "version": "3.6.1"
  }
 },
 "nbformat": 4,
 "nbformat_minor": 2
}
